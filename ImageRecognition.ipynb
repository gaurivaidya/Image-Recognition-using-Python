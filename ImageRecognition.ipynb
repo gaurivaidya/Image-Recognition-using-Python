{
 "cells": [
  {
   "cell_type": "markdown",
   "metadata": {},
   "source": [
    "## Image Recognition in python"
   ]
  },
  {
   "cell_type": "code",
   "execution_count": 21,
   "metadata": {},
   "outputs": [],
   "source": [
    "#importing all necesaary stuff \n",
    "#-we need pillow, numpy and matplotlib"
   ]
  },
  {
   "cell_type": "code",
   "execution_count": 3,
   "metadata": {},
   "outputs": [],
   "source": [
    "from PIL import Image\n",
    "import numpy as np\n",
    "import matplotlib.pyplot as plt\n",
    "import time\n",
    "from functools import reduce\n",
    "from collections import Counter"
   ]
  },
  {
   "cell_type": "code",
   "execution_count": 4,
   "metadata": {},
   "outputs": [],
   "source": [
    "#read image\n",
    "i = Image.open('images/numbers/0.1.png')"
   ]
  },
  {
   "cell_type": "code",
   "execution_count": 5,
   "metadata": {},
   "outputs": [],
   "source": [
    "#define an array that corresponds to our image\n",
    "#it is a 3D array\n",
    "iar = np.asarray(i)"
   ]
  },
  {
   "cell_type": "markdown",
   "metadata": {},
   "source": [
    "The columns correspond to red, yellow, blue and alpha respectively"
   ]
  },
  {
   "cell_type": "code",
   "execution_count": 6,
   "metadata": {},
   "outputs": [
    {
     "data": {
      "image/png": "[encoded data removed]",
      "text/plain": [
       "<Figure size 432x288 with 1 Axes>"
      ]
     },
     "metadata": {},
     "output_type": "display_data"
    }
   ],
   "source": [
    "plt.imshow(iar)\n",
    "plt.show()"
   ]
  },
  {
   "cell_type": "markdown",
   "metadata": {},
   "source": [
    "We need to define a function to convert every image in black and white rather than the RGB colors."
   ]
  },
  {
   "cell_type": "code",
   "execution_count": 7,
   "metadata": {},
   "outputs": [],
   "source": [
    "def threshold(imageArray):\n",
    "    balanceAr = []\n",
    "    newAr = imageArray\n",
    "    \n",
    "    \n",
    "    for eachRow in imageArray:\n",
    "        for eachPixel in eachRow:\n",
    "            avgNum = reduce(lambda x, y: x+y , eachPixel[:3])/len(eachPixel[:3])\n",
    "            balanceAr.append(avgNum)\n",
    "    balance = reduce(lambda x, y: x+y , balanceAr)/len(balanceAr)\n",
    "    \n",
    "    for eachRow in newAr:\n",
    "        for eachPixel in eachRow:\n",
    "            if reduce(lambda x, y: x + y, eachPixel[:3])/len(eachPixel[:3])  >  balance :\n",
    "                eachPixel[0] =255\n",
    "                eachPixel[1] =255\n",
    "                eachPixel[2] =255\n",
    "                eachPixel[3] =255\n",
    "            else:\n",
    "                eachPixel[0] =0\n",
    "                eachPixel[1] =0\n",
    "                eachPixel[2] =0\n",
    "                eachPixel[3] =255\n",
    "    return newAr"
   ]
  },
  {
   "cell_type": "code",
   "execution_count": 8,
   "metadata": {},
   "outputs": [
    {
     "name": "stderr",
     "output_type": "stream",
     "text": [
      "/home/gauri/anaconda3/lib/python3.6/site-packages/ipykernel_launcher.py:8: RuntimeWarning: overflow encountered in ubyte_scalars\n",
      "  \n",
      "/home/gauri/anaconda3/lib/python3.6/site-packages/ipykernel_launcher.py:14: RuntimeWarning: overflow encountered in ubyte_scalars\n",
      "  \n"
     ]
    },
    {
     "data": {
      "image/png": "[encoded data removed]",
      "text/plain": [
       "<Figure size 432x288 with 4 Axes>"
      ]
     },
     "metadata": {},
     "output_type": "display_data"
    }
   ],
   "source": [
    "i = Image.open('images/numbers/0.1.png')\n",
    "iar = np.asarray(i)\n",
    "iar=iar.copy()\n",
    "\n",
    "i2 = Image.open('images/numbers/y0.4.png')\n",
    "iar2 = np.asarray(i2)\n",
    "iar2=iar2.copy()\n",
    "\n",
    "i3 = Image.open('images/numbers/y0.5.png')\n",
    "iar3 = np.asarray(i3)\n",
    "iar3=iar3.copy()\n",
    "\n",
    "i4 = Image.open('images/sentdex.png')\n",
    "iar4 = np.asarray(i4)\n",
    "iar4=iar4.copy()\n",
    "\n",
    "\n",
    "threshold(iar3)\n",
    "threshold(iar2)\n",
    "threshold(iar4)\n",
    "\n",
    "fig = plt.figure()\n",
    "\n",
    "#subplot2grid creates an axis at specific location in the grid\n",
    "ax1 = plt.subplot2grid((8,6), (0,0), rowspan=4, colspan=3)\n",
    "ax2 = plt.subplot2grid((8,6), (4,0), rowspan=4, colspan=3)\n",
    "ax3 = plt.subplot2grid((8,6), (0,3), rowspan=4, colspan=3)\n",
    "ax4 = plt.subplot2grid((8,6), (4,3), rowspan=4, colspan=3)\n",
    "\n",
    "ax1.imshow(iar)\n",
    "ax2.imshow(iar2)\n",
    "ax3.imshow(iar3)\n",
    "ax4.imshow(iar4)\n",
    "\n",
    "plt.show()\n",
    "\n",
    "\n"
   ]
  },
  {
   "cell_type": "markdown",
   "metadata": {},
   "source": [
    "#### We create a function for automatically reading all the files from the path "
   ]
  },
  {
   "cell_type": "code",
   "execution_count": 9,
   "metadata": {},
   "outputs": [],
   "source": [
    "def createExamples():\n",
    "    numberArrayexamples = open('numexample.txt', 'a')\n",
    "    numbersWeHave = range(0, 10)\n",
    "    versionsWeHave = range(1, 10)\n",
    "    \n",
    "    for eachNum in numbersWeHave:\n",
    "        for eachVer in versionsWeHave:\n",
    "            imageFilePath = 'images/numbers/' + str(eachNum) +  '.' + str(eachVer) + '.png'\n",
    "            #rach image\n",
    "            ei = Image.open(imageFilePath)\n",
    "            #each image array\n",
    "            eiar = np.array(ei)\n",
    "            #converting array to list\n",
    "            eiar1 = str(eiar.tolist())\n",
    "            \n",
    "            lineToWrite = str(eachNum) +  ' : : ' + eiar1 +  '\\n'\n",
    "            numberArrayexamples.write(lineToWrite)\n",
    "            \n",
    "            \n",
    "createExamples()\n",
    "            \n",
    "        "
   ]
  },
  {
   "cell_type": "code",
   "execution_count": 18,
   "metadata": {},
   "outputs": [],
   "source": [
    "def whatNumIsThis(filePath):\n",
    "\n",
    "    matchedAr = []\n",
    "    loadExamps = open('numexample.txt','r').read()\n",
    "    loadExamps = loadExamps.split('\\n')\n",
    "    i = Image.open(filePath)\n",
    "    iar = np.array(i)\n",
    "    iarl = iar.tolist()\n",
    "    inQuestion = str(iarl)\n",
    "    for eachExample in loadExamps:\n",
    "        try:\n",
    "            splitEx = eachExample.split(' : : ')\n",
    "            currentNum = splitEx[0]\n",
    "            currentAr = splitEx[1]\n",
    "            eachPixEx = currentAr.split('],')\n",
    "            eachPixInQ = inQuestion.split('],')\n",
    "            x = 0\n",
    "            while x < len(eachPixEx):\n",
    "                if eachPixEx[x] == eachPixInQ[x]:\n",
    "                    matchedAr.append(int(currentNum))\n",
    "\n",
    "                x+=1\n",
    "        except Exception as e:\n",
    "            continue\n",
    "                \n",
    "    x = Counter(matchedAr)\n",
    "    print(x)\n",
    "    #data visualization\n",
    "    graphX = []\n",
    "    graphY = []\n",
    "\n",
    "    ylimi = 400\n",
    "\n",
    "    for eachThing in x:\n",
    "        graphX.append(eachThing)\n",
    "        graphY.append(x[eachThing])\n",
    "        ylimi = x[eachThing]\n",
    "\n",
    "\n",
    "\n",
    "    fig = plt.figure()\n",
    "    ax1 = plt.subplot2grid((4,4),(0,0), rowspan=1, colspan=4)\n",
    "    ax2 = plt.subplot2grid((4,4),(1,0), rowspan=3,colspan=4)\n",
    "    \n",
    "    ax1.imshow(iar)\n",
    "    ax2.bar(graphX,graphY,align='center')\n",
    "    plt.ylim(400)\n",
    "    \n",
    "    xloc = plt.MaxNLocator(12)\n",
    "    ax2.xaxis.set_major_locator(xloc)\n",
    "\n",
    "    plt.show()\n",
    "                \n",
    "\n",
    "            \n",
    "            \n",
    "            \n",
    "    "
   ]
  },
  {
   "cell_type": "code",
   "execution_count": 19,
   "metadata": {},
   "outputs": [
    {
     "name": "stdout",
     "output_type": "stream",
     "text": [
      "Counter({0: 3381, 3: 2737, 6: 2716, 8: 2611, 2: 2471, 9: 2450, 5: 2387, 4: 2065, 7: 2044, 1: 1855})\n"
     ]
    },
    {
     "data": {
      "image/png": "[encoded data removed]",
      "text/plain": [
       "<Figure size 432x288 with 2 Axes>"
      ]
     },
     "metadata": {},
     "output_type": "display_data"
    }
   ],
   "source": [
    "whatNumIsThis('images/numbers/0.6.png')"
   ]
  },
  {
   "cell_type": "code",
   "execution_count": null,
   "metadata": {},
   "outputs": [],
   "source": []
  }
 ],
 "metadata": {
  "kernelspec": {
   "display_name": "Python 3",
   "language": "python",
   "name": "python3"
  },
  "language_info": {
   "codemirror_mode": {
    "name": "ipython",
    "version": 3
   },
   "file_extension": ".py",
   "mimetype": "text/x-python",
   "name": "python",
   "nbconvert_exporter": "python",
   "pygments_lexer": "ipython3",
   "version": "3.6.5"
  }
 },
 "nbformat": 4,
 "nbformat_minor": 2
}
